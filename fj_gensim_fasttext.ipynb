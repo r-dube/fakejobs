{
  "nbformat": 4,
  "nbformat_minor": 0,
  "metadata": {
    "colab": {
      "name": "fj_gensim_fasttext.ipynb",
      "provenance": [],
      "authorship_tag": "ABX9TyNa5B409NPnhUCGvqt92yEn",
      "include_colab_link": true
    },
    "kernelspec": {
      "name": "python3",
      "display_name": "Python 3"
    }
  },
  "cells": [
    {
      "cell_type": "markdown",
      "metadata": {
        "id": "view-in-github",
        "colab_type": "text"
      },
      "source": [
        "<a href=\"https://colab.research.google.com/github/r-dube/fakejobs/blob/main/fj_gensim_fasttext.ipynb\" target=\"_parent\"><img src=\"https://colab.research.google.com/assets/colab-badge.svg\" alt=\"Open In Colab\"/></a>"
      ]
    },
    {
      "cell_type": "code",
      "metadata": {
        "colab": {
          "base_uri": "https://localhost:8080/"
        },
        "id": "Nr6yg6zvx67D",
        "outputId": "dbaf8dff-e8a1-43b0-f5be-9552852e228c"
      },
      "source": [
        "# Mount drive\n",
        "from google.colab import drive\n",
        "drive.mount('/content/drive')"
      ],
      "execution_count": 1,
      "outputs": [
        {
          "output_type": "stream",
          "text": [
            "Drive already mounted at /content/drive; to attempt to forcibly remount, call drive.mount(\"/content/drive\", force_remount=True).\n"
          ],
          "name": "stdout"
        }
      ]
    },
    {
      "cell_type": "code",
      "metadata": {
        "colab": {
          "base_uri": "https://localhost:8080/"
        },
        "id": "vJ5pjWAVxgaC",
        "outputId": "473a0ff3-72bc-4436-b435-385b537d81df"
      },
      "source": [
        "# For gensim\n",
        "from pprint import pprint as print\n",
        "from gensim.models.fasttext import FastText as FT_gensim\n",
        "from gensim.test.utils import datapath\n",
        "\n",
        "# Set file names\n",
        "corpus_file = \"/content/drive/My Drive/Data/fakejobs/fj_processed.txt\"\n",
        "# corpus_file = \".gensim-cache/fj_small_processed.txt\"\n",
        "save_file = \"/content/drive/My Drive/Data/fakejobs/gensim_fasttext.mod\"\n",
        "\n",
        "# Initialize the model\n",
        "model = FT_gensim(size=32)\n",
        "\n",
        "# build the vocabulary\n",
        "model.build_vocab(corpus_file=corpus_file)\n",
        "\n",
        "# train the model\n",
        "model.epochs = 15\n",
        "model.train(\n",
        "    corpus_file=corpus_file, epochs=model.epochs,\n",
        "    total_examples=model.corpus_count, total_words=model.corpus_total_words\n",
        ")\n",
        "print(model)\n"
      ],
      "execution_count": 2,
      "outputs": [
        {
          "output_type": "stream",
          "text": [
            "<gensim.models.fasttext.FastText object at 0x7fea3a429908>\n"
          ],
          "name": "stdout"
        }
      ]
    },
    {
      "cell_type": "code",
      "metadata": {
        "id": "cOQLUkbvyf7r"
      },
      "source": [
        "# saving a model trained via Gensim's fastText implementation\n",
        "model.save(save_file, separately=[])"
      ],
      "execution_count": 3,
      "outputs": []
    },
    {
      "cell_type": "code",
      "metadata": {
        "colab": {
          "base_uri": "https://localhost:8080/"
        },
        "id": "sK_OUtLEyb4a",
        "outputId": "60f287c8-5542-490a-ff7a-d3876a3d0f35"
      },
      "source": [
        "# run some basic tests on the model\n",
        "print (\"job\" in model.wv.vocab)\n",
        "print (\"salary\" in model.wv.vocab)\n",
        "print (\"learn\" in model.wv.vocab)\n",
        "\n",
        "# print vector representaion\n",
        "print (model[\"job\"])\n",
        "\n",
        "# test similarity\n",
        "print(model.similarity(\"job\", \"salary\"))\n",
        "print(model.similarity(\"job\", \"learn\"))\n",
        "print(model.similarity(\"job\", \"the\"))"
      ],
      "execution_count": 4,
      "outputs": [
        {
          "output_type": "stream",
          "text": [
            "True\n",
            "True\n",
            "True\n",
            "array([  2.0241313 ,  -6.132418  ,  -3.40467   ,  -5.1215353 ,\n",
            "        -2.282312  ,   7.4927936 ,   2.4497414 ,  -6.7173896 ,\n",
            "        -7.272256  ,   1.1653825 ,  -3.6455219 ,  12.658805  ,\n",
            "        -7.254272  ,  -1.9377375 ,  -4.595565  ,  -4.9947977 ,\n",
            "         0.34983402,   4.8493614 ,  -2.022992  ,  -5.5733714 ,\n",
            "        10.372305  , -12.436895  ,  -7.2309184 ,  -7.744962  ,\n",
            "         1.9182552 ,  -9.429814  ,   7.6744714 ,  -1.6685905 ,\n",
            "        -9.299286  ,  -1.3717644 , -10.420939  ,   6.9276032 ],\n",
            "      dtype=float32)\n",
            "0.3339747\n",
            "0.13857102\n",
            "0.065751135\n"
          ],
          "name": "stdout"
        },
        {
          "output_type": "stream",
          "text": [
            "/usr/local/lib/python3.6/dist-packages/ipykernel_launcher.py:7: DeprecationWarning: Call to deprecated `__getitem__` (Method will be removed in 4.0.0, use self.wv.__getitem__() instead).\n",
            "  import sys\n",
            "/usr/local/lib/python3.6/dist-packages/ipykernel_launcher.py:10: DeprecationWarning: Call to deprecated `similarity` (Method will be removed in 4.0.0, use self.wv.similarity() instead).\n",
            "  # Remove the CWD from sys.path while we load stuff.\n",
            "/usr/local/lib/python3.6/dist-packages/ipykernel_launcher.py:11: DeprecationWarning: Call to deprecated `similarity` (Method will be removed in 4.0.0, use self.wv.similarity() instead).\n",
            "  # This is added back by InteractiveShellApp.init_path()\n",
            "/usr/local/lib/python3.6/dist-packages/ipykernel_launcher.py:12: DeprecationWarning: Call to deprecated `similarity` (Method will be removed in 4.0.0, use self.wv.similarity() instead).\n",
            "  if sys.path[0] == '':\n"
          ],
          "name": "stderr"
        }
      ]
    },
    {
      "cell_type": "code",
      "metadata": {
        "colab": {
          "base_uri": "https://localhost:8080/"
        },
        "id": "3VZQt8hkzjxw",
        "outputId": "88427c3c-056d-47e2-fd12-7d957a738d19"
      },
      "source": [
        "# Load in pre-trained FASTTEXT word vectors\n",
        "fasttext_file = save_file\n",
        "print('Loading word vectors...')\n",
        "from gensim.models.fasttext import FastText as FT_gensim\n",
        "loaded_model = FT_gensim.load(fasttext_file)"
      ],
      "execution_count": 6,
      "outputs": [
        {
          "output_type": "stream",
          "text": [
            "'Loading word vectors...'\n"
          ],
          "name": "stdout"
        }
      ]
    },
    {
      "cell_type": "code",
      "metadata": {
        "colab": {
          "base_uri": "https://localhost:8080/"
        },
        "id": "uBmTf7vNz0z6",
        "outputId": "7f05263e-8789-48a5-8478-f9508a63aa9d"
      },
      "source": [
        "# re-run some basic tests on the model\n",
        "print (\"job\" in loaded_model.wv.vocab)\n",
        "print (\"salary\" in loaded_model.wv.vocab)\n",
        "print (\"learn\" in loaded_model.wv.vocab)\n",
        "\n",
        "# print vector representaion\n",
        "print (loaded_model[\"job\"])\n",
        "\n",
        "# test similarity\n",
        "print(loaded_model.similarity(\"job\", \"salary\"))\n",
        "print(loaded_model.similarity(\"job\", \"learn\"))\n",
        "print(loaded_model.similarity(\"job\", \"the\"))"
      ],
      "execution_count": 7,
      "outputs": [
        {
          "output_type": "stream",
          "text": [
            "True\n",
            "True\n",
            "True\n",
            "array([  2.0241313 ,  -6.132418  ,  -3.40467   ,  -5.1215353 ,\n",
            "        -2.282312  ,   7.4927936 ,   2.4497414 ,  -6.7173896 ,\n",
            "        -7.272256  ,   1.1653825 ,  -3.6455219 ,  12.658805  ,\n",
            "        -7.254272  ,  -1.9377375 ,  -4.595565  ,  -4.9947977 ,\n",
            "         0.34983402,   4.8493614 ,  -2.022992  ,  -5.5733714 ,\n",
            "        10.372305  , -12.436895  ,  -7.2309184 ,  -7.744962  ,\n",
            "         1.9182552 ,  -9.429814  ,   7.6744714 ,  -1.6685905 ,\n",
            "        -9.299286  ,  -1.3717644 , -10.420939  ,   6.9276032 ],\n",
            "      dtype=float32)\n",
            "0.3339747\n",
            "0.13857102\n",
            "0.065751135\n"
          ],
          "name": "stdout"
        },
        {
          "output_type": "stream",
          "text": [
            "/usr/local/lib/python3.6/dist-packages/ipykernel_launcher.py:7: DeprecationWarning: Call to deprecated `__getitem__` (Method will be removed in 4.0.0, use self.wv.__getitem__() instead).\n",
            "  import sys\n",
            "/usr/local/lib/python3.6/dist-packages/ipykernel_launcher.py:10: DeprecationWarning: Call to deprecated `similarity` (Method will be removed in 4.0.0, use self.wv.similarity() instead).\n",
            "  # Remove the CWD from sys.path while we load stuff.\n",
            "/usr/local/lib/python3.6/dist-packages/ipykernel_launcher.py:11: DeprecationWarning: Call to deprecated `similarity` (Method will be removed in 4.0.0, use self.wv.similarity() instead).\n",
            "  # This is added back by InteractiveShellApp.init_path()\n",
            "/usr/local/lib/python3.6/dist-packages/ipykernel_launcher.py:12: DeprecationWarning: Call to deprecated `similarity` (Method will be removed in 4.0.0, use self.wv.similarity() instead).\n",
            "  if sys.path[0] == '':\n"
          ],
          "name": "stderr"
        }
      ]
    },
    {
      "cell_type": "code",
      "metadata": {
        "colab": {
          "base_uri": "https://localhost:8080/"
        },
        "id": "e6itsSrB6-l1",
        "outputId": "1a0d940a-eed6-4b80-a0a4-ca2ee78e5813"
      },
      "source": [
        "#Additional tests\n",
        "print(loaded_model.similarity(\"job\", \"jobs\"))\n",
        "print(loaded_model.similarity(\"job\", \"description\"))\n",
        "print(loaded_model.similarity(\"job\", \"resume\"))"
      ],
      "execution_count": 8,
      "outputs": [
        {
          "output_type": "stream",
          "text": [
            "0.69207716\n",
            "0.74261004\n",
            "0.50057983\n"
          ],
          "name": "stdout"
        },
        {
          "output_type": "stream",
          "text": [
            "/usr/local/lib/python3.6/dist-packages/ipykernel_launcher.py:2: DeprecationWarning: Call to deprecated `similarity` (Method will be removed in 4.0.0, use self.wv.similarity() instead).\n",
            "  \n",
            "/usr/local/lib/python3.6/dist-packages/ipykernel_launcher.py:3: DeprecationWarning: Call to deprecated `similarity` (Method will be removed in 4.0.0, use self.wv.similarity() instead).\n",
            "  This is separate from the ipykernel package so we can avoid doing imports until\n",
            "/usr/local/lib/python3.6/dist-packages/ipykernel_launcher.py:4: DeprecationWarning: Call to deprecated `similarity` (Method will be removed in 4.0.0, use self.wv.similarity() instead).\n",
            "  after removing the cwd from sys.path.\n"
          ],
          "name": "stderr"
        }
      ]
    }
  ]
}