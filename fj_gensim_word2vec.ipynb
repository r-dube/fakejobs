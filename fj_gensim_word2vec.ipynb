{
  "nbformat": 4,
  "nbformat_minor": 0,
  "metadata": {
    "colab": {
      "name": "fj_gensim_word2vec.ipynb",
      "provenance": [],
      "authorship_tag": "ABX9TyMNIzSdn7CgBMkXZS3RjjgS",
      "include_colab_link": true
    },
    "kernelspec": {
      "name": "python3",
      "display_name": "Python 3"
    }
  },
  "cells": [
    {
      "cell_type": "markdown",
      "metadata": {
        "id": "view-in-github",
        "colab_type": "text"
      },
      "source": [
        "<a href=\"https://colab.research.google.com/github/r-dube/fakejobs/blob/main/fj_gensim_word2vec.ipynb\" target=\"_parent\"><img src=\"https://colab.research.google.com/assets/colab-badge.svg\" alt=\"Open In Colab\"/></a>"
      ]
    },
    {
      "cell_type": "code",
      "metadata": {
        "colab": {
          "base_uri": "https://localhost:8080/"
        },
        "id": "Nr6yg6zvx67D",
        "outputId": "d7b90e54-3c8e-4632-fc0e-f4604392b613"
      },
      "source": [
        "# Mount drive\n",
        "from google.colab import drive\n",
        "drive.mount('/content/drive')"
      ],
      "execution_count": 13,
      "outputs": [
        {
          "output_type": "stream",
          "text": [
            "Drive already mounted at /content/drive; to attempt to forcibly remount, call drive.mount(\"/content/drive\", force_remount=True).\n"
          ],
          "name": "stdout"
        }
      ]
    },
    {
      "cell_type": "code",
      "metadata": {
        "id": "sIVbkeaOgMx9"
      },
      "source": [
        "from gensim import utils\n",
        "\n",
        "# Set file names\n",
        "corpus_files = [\"/content/drive/My Drive/Data/fakejobs/fj_processed.txt\", \"/content/drive/My Drive/Data/fakejobs/fj_monster.txt\"]\n",
        "# corpus_file = \"/content/drive/My Drive/Data/fakejobs/fj_small_processed.txt\"\n",
        "save_file = \"/content/drive/My Drive/Data/fakejobs/gensim_word2vec.mod\""
      ],
      "execution_count": 14,
      "outputs": []
    },
    {
      "cell_type": "code",
      "metadata": {
        "id": "1EJw5N7leHg6"
      },
      "source": [
        "class MyCorpus(object):\n",
        "    \"\"\"An interator that yields sentences (lists of str).\"\"\"\n",
        "\n",
        "    def __iter__(self):\n",
        "      for corpus_file in corpus_files:\n",
        "        print (\"Processing \", corpus_file, \"...\")\n",
        "        for line in open(corpus_file):\n",
        "            # assume there's one document per line, tokens separated by whitespace\n",
        "            yield utils.simple_preprocess(line)"
      ],
      "execution_count": 15,
      "outputs": []
    },
    {
      "cell_type": "code",
      "metadata": {
        "id": "14gpDJv1goei",
        "colab": {
          "base_uri": "https://localhost:8080/"
        },
        "outputId": "bd1e7663-5628-4a5c-96d4-ffec20bddd9a"
      },
      "source": [
        "import gensim.models\n",
        "\n",
        "sentences = MyCorpus()\n",
        "model = gensim.models.Word2Vec(sentences=sentences, size=32, iter=15, sg=1, window=10)"
      ],
      "execution_count": 16,
      "outputs": [
        {
          "output_type": "stream",
          "text": [
            "Processing  /content/drive/My Drive/Data/fakejobs/fj_processed.txt ...\n",
            "Processing  /content/drive/My Drive/Data/fakejobs/fj_monster.txt ...\n",
            "Processing  /content/drive/My Drive/Data/fakejobs/fj_processed.txt ...\n",
            "Processing  /content/drive/My Drive/Data/fakejobs/fj_monster.txt ...\n",
            "Processing  /content/drive/My Drive/Data/fakejobs/fj_processed.txt ...\n",
            "Processing  /content/drive/My Drive/Data/fakejobs/fj_monster.txt ...\n",
            "Processing  /content/drive/My Drive/Data/fakejobs/fj_processed.txt ...\n",
            "Processing  /content/drive/My Drive/Data/fakejobs/fj_monster.txt ...\n",
            "Processing  /content/drive/My Drive/Data/fakejobs/fj_processed.txt ...\n",
            "Processing  /content/drive/My Drive/Data/fakejobs/fj_monster.txt ...\n",
            "Processing  /content/drive/My Drive/Data/fakejobs/fj_processed.txt ...\n",
            "Processing  /content/drive/My Drive/Data/fakejobs/fj_monster.txt ...\n",
            "Processing  /content/drive/My Drive/Data/fakejobs/fj_processed.txt ...\n",
            "Processing  /content/drive/My Drive/Data/fakejobs/fj_monster.txt ...\n",
            "Processing  /content/drive/My Drive/Data/fakejobs/fj_processed.txt ...\n",
            "Processing  /content/drive/My Drive/Data/fakejobs/fj_monster.txt ...\n",
            "Processing  /content/drive/My Drive/Data/fakejobs/fj_processed.txt ...\n",
            "Processing  /content/drive/My Drive/Data/fakejobs/fj_monster.txt ...\n",
            "Processing  /content/drive/My Drive/Data/fakejobs/fj_processed.txt ...\n",
            "Processing  /content/drive/My Drive/Data/fakejobs/fj_monster.txt ...\n",
            "Processing  /content/drive/My Drive/Data/fakejobs/fj_processed.txt ...\n",
            "Processing  /content/drive/My Drive/Data/fakejobs/fj_monster.txt ...\n",
            "Processing  /content/drive/My Drive/Data/fakejobs/fj_processed.txt ...\n",
            "Processing  /content/drive/My Drive/Data/fakejobs/fj_monster.txt ...\n",
            "Processing  /content/drive/My Drive/Data/fakejobs/fj_processed.txt ...\n",
            "Processing  /content/drive/My Drive/Data/fakejobs/fj_monster.txt ...\n",
            "Processing  /content/drive/My Drive/Data/fakejobs/fj_processed.txt ...\n",
            "Processing  /content/drive/My Drive/Data/fakejobs/fj_monster.txt ...\n",
            "Processing  /content/drive/My Drive/Data/fakejobs/fj_processed.txt ...\n",
            "Processing  /content/drive/My Drive/Data/fakejobs/fj_monster.txt ...\n",
            "Processing  /content/drive/My Drive/Data/fakejobs/fj_processed.txt ...\n",
            "Processing  /content/drive/My Drive/Data/fakejobs/fj_monster.txt ...\n"
          ],
          "name": "stdout"
        }
      ]
    },
    {
      "cell_type": "code",
      "metadata": {
        "id": "Z4BAgCkigw8n"
      },
      "source": [
        "model.save(save_file)"
      ],
      "execution_count": 17,
      "outputs": []
    },
    {
      "cell_type": "code",
      "metadata": {
        "colab": {
          "base_uri": "https://localhost:8080/"
        },
        "id": "PWOBtdMahshf",
        "outputId": "b0b27d88-636a-42cc-b3a3-9938fed2ba6c"
      },
      "source": [
        "# Load in pre-trained word2vec word vectors\n",
        "word2vec_file = save_file\n",
        "print('Loading word vectors...')\n",
        "loaded_model = gensim.models.Word2Vec.load(word2vec_file)"
      ],
      "execution_count": 18,
      "outputs": [
        {
          "output_type": "stream",
          "text": [
            "Loading word vectors...\n"
          ],
          "name": "stdout"
        }
      ]
    },
    {
      "cell_type": "code",
      "metadata": {
        "colab": {
          "base_uri": "https://localhost:8080/"
        },
        "id": "OM-HW2bgiLo5",
        "outputId": "873d0e81-3b69-4568-ccf8-3a8b42ac4bb6"
      },
      "source": [
        "# run some basic tests on the model\n",
        "print (\"job\" in model.wv.vocab)\n",
        "print (\"salary\" in model.wv.vocab)\n",
        "print (\"learn\" in model.wv.vocab)\n",
        "\n",
        "# print vector representaion\n",
        "print (model[\"job\"])\n",
        "\n",
        "# test similarity\n",
        "print(model.similarity(\"job\", \"salary\"))\n",
        "print(model.similarity(\"job\", \"learn\"))\n",
        "print(model.similarity(\"job\", \"job\"))"
      ],
      "execution_count": 19,
      "outputs": [
        {
          "output_type": "stream",
          "text": [
            "True\n",
            "True\n",
            "True\n",
            "[-0.5597626  -0.2878513   0.28523552 -0.12435749 -0.55350775 -0.65751076\n",
            " -0.33258054 -0.05620344 -1.2687052   0.21749425  0.45805857 -0.1967052\n",
            "  0.16767623 -0.49126238 -0.06525086  0.3219178   0.07478059  0.1163536\n",
            "  0.6354326   0.11910326 -0.00559308  0.3839453   0.22964697  0.564633\n",
            " -0.14372458 -0.1496998   0.7097198  -0.21656047 -0.49162737 -0.0189154\n",
            "  0.0756033  -0.24215993]\n",
            "0.3734836\n",
            "0.41988644\n",
            "1.0\n"
          ],
          "name": "stdout"
        },
        {
          "output_type": "stream",
          "text": [
            "/usr/local/lib/python3.6/dist-packages/ipykernel_launcher.py:7: DeprecationWarning: Call to deprecated `__getitem__` (Method will be removed in 4.0.0, use self.wv.__getitem__() instead).\n",
            "  import sys\n",
            "/usr/local/lib/python3.6/dist-packages/ipykernel_launcher.py:10: DeprecationWarning: Call to deprecated `similarity` (Method will be removed in 4.0.0, use self.wv.similarity() instead).\n",
            "  # Remove the CWD from sys.path while we load stuff.\n",
            "/usr/local/lib/python3.6/dist-packages/ipykernel_launcher.py:11: DeprecationWarning: Call to deprecated `similarity` (Method will be removed in 4.0.0, use self.wv.similarity() instead).\n",
            "  # This is added back by InteractiveShellApp.init_path()\n",
            "/usr/local/lib/python3.6/dist-packages/ipykernel_launcher.py:12: DeprecationWarning: Call to deprecated `similarity` (Method will be removed in 4.0.0, use self.wv.similarity() instead).\n",
            "  if sys.path[0] == '':\n"
          ],
          "name": "stderr"
        }
      ]
    }
  ]
}