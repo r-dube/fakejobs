{
  "nbformat": 4,
  "nbformat_minor": 0,
  "metadata": {
    "colab": {
      "name": "fj_nohidden.ipynb",
      "provenance": [],
      "collapsed_sections": [],
      "authorship_tag": "ABX9TyPLqOMb8IfdAIA1sJ7ftA5C",
      "include_colab_link": true
    },
    "kernelspec": {
      "name": "python3",
      "display_name": "Python 3"
    }
  },
  "cells": [
    {
      "cell_type": "markdown",
      "metadata": {
        "id": "view-in-github",
        "colab_type": "text"
      },
      "source": [
        "<a href=\"https://colab.research.google.com/github/r-dube/fakejobs/blob/main/fj_nohidden.ipynb\" target=\"_parent\"><img src=\"https://colab.research.google.com/assets/colab-badge.svg\" alt=\"Open In Colab\"/></a>"
      ]
    },
    {
      "cell_type": "code",
      "metadata": {
        "id": "NFWTUL3GCHsG"
      },
      "source": [
        "# Load the modules used\n",
        "import numpy as np\n",
        "import scipy as sci\n",
        "import pandas as pd\n",
        "import string\n",
        "import re\n",
        "from sklearn.model_selection import train_test_split\n",
        "from sklearn.feature_extraction.text import CountVectorizer\n",
        "from sklearn.metrics import accuracy_score, f1_score, confusion_matrix\n",
        "# from sklearn.linear_model import LogisticRegression\n",
        "import tensorflow as tf\n",
        "import keras\n",
        "from keras.models import Sequential\n",
        "from keras.layers import Dense, Dropout"
      ],
      "execution_count": 1,
      "outputs": []
    },
    {
      "cell_type": "code",
      "metadata": {
        "id": "55AqcsYyb-aa"
      },
      "source": [
        "# For reproducible results\n",
        "# except for variability introduced by GPU\n",
        "import random as rn\n",
        "import os\n",
        "os.environ['PYTHONHASHSEED'] = '42'\n",
        "# os.environ['CUDA_VISIBLE_DEVICES'] = '-1' # avoid using GPU for reproducible results\n",
        "np.random.seed(42)\n",
        "rn.seed(42)\n",
        "tf.random.set_seed(42)"
      ],
      "execution_count": 2,
      "outputs": []
    },
    {
      "cell_type": "code",
      "metadata": {
        "id": "rrnTamUHDzxI"
      },
      "source": [
        "# Set data_url, the location of the data\n",
        "# Data is not loaded from a local file\n",
        "# data_url=\"https://raw.githubusercontent.com/r-dube/fakejobs/main/data/fj_small.csv\"\n",
        "# data_url=\"https://raw.githubusercontent.com/r-dube/fakejobs/main/data/fj_medium.csv\"\n",
        "data_url=\"https://raw.githubusercontent.com/r-dube/fakejobs/main/data/fake_job_postings.csv\""
      ],
      "execution_count": 3,
      "outputs": []
    },
    {
      "cell_type": "code",
      "metadata": {
        "id": "usYPD_l1Bimz"
      },
      "source": [
        "def fj_load_df_from_url():\n",
        "    \"\"\"\n",
        "    Load dataframe from csv file\n",
        "    Input:\n",
        "        None\n",
        "    Returns:\n",
        "        dataframe\n",
        "    \"\"\"\n",
        "\n",
        "    df = pd.read_csv(data_url)\n",
        "\n",
        "    print ('Loaded dataframe shape', df.shape)\n",
        "\n",
        "    counts = fj_label_stats(df)\n",
        "    print ('Not fraudulent', counts[0], 'Fraudulent', counts[1])\n",
        "\n",
        "    print(df.describe())\n",
        "\n",
        "    print ('NAs/NANs in data =>')\n",
        "    print(df.isna().sum())\n",
        "\n",
        "    return df\n",
        "\n",
        "def fj_label_stats(df):\n",
        "    \"\"\"\n",
        "    Very basic label statistics\n",
        "    Input: \n",
        "        Dataframe\n",
        "    Returns:\n",
        "        Number of samples with 0, 1 as the label\n",
        "    \"\"\"\n",
        "    counts = np.bincount(df['fraudulent'])\n",
        "    return counts\n",
        "\n",
        "def fj_txt_only(df):\n",
        "    \"\"\"\n",
        "    Combine all the text fields, discard everything else except for the label\n",
        "    Input: \n",
        "        Dataframe\n",
        "    Returns:\n",
        "        Processed dataframe\n",
        "    \"\"\"\n",
        "    \n",
        "    df.fillna(\" \", inplace = True)\n",
        "\n",
        "    df['text'] = df['title'] + ' ' + df['location'] + ' ' + df['department'] + \\\n",
        "    ' ' + df['company_profile'] + ' ' + df['description'] + ' ' + \\\n",
        "    df['requirements'] + ' ' + df['benefits'] + ' ' + df['employment_type'] + \\\n",
        "    ' ' + df['required_education'] + ' ' + df['industry'] + ' ' + df['function'] \n",
        "\n",
        "    del df['title']\n",
        "    del df['location']\n",
        "    del df['department']\n",
        "    del df['company_profile']\n",
        "    del df['description']\n",
        "    del df['requirements']\n",
        "    del df['benefits']\n",
        "    del df['employment_type']\n",
        "    del df['required_experience']\n",
        "    del df['required_education']\n",
        "    del df['industry']\n",
        "    del df['function']  \n",
        "    \n",
        "    del df['salary_range']\n",
        "    del df['job_id']\n",
        "    del df['telecommuting']\n",
        "    del df['has_company_logo']\n",
        "    del df['has_questions']\n",
        "\n",
        "    return df"
      ],
      "execution_count": 4,
      "outputs": []
    },
    {
      "cell_type": "code",
      "metadata": {
        "id": "Lks9Mm0Tc1l2",
        "colab": {
          "base_uri": "https://localhost:8080/"
        },
        "outputId": "b5b0858b-c5a3-4fc5-e6e9-d6e6cf50e521"
      },
      "source": [
        "df = fj_load_df_from_url()\n",
        "df = fj_txt_only(df)\n",
        "print('Maximum text length', df['text'].str.len().max())"
      ],
      "execution_count": 5,
      "outputs": [
        {
          "output_type": "stream",
          "text": [
            "Loaded dataframe shape (17880, 18)\n",
            "Not fraudulent 17014 Fraudulent 866\n",
            "             job_id  telecommuting  ...  has_questions    fraudulent\n",
            "count  17880.000000   17880.000000  ...   17880.000000  17880.000000\n",
            "mean    8940.500000       0.042897  ...       0.491723      0.048434\n",
            "std     5161.655742       0.202631  ...       0.499945      0.214688\n",
            "min        1.000000       0.000000  ...       0.000000      0.000000\n",
            "25%     4470.750000       0.000000  ...       0.000000      0.000000\n",
            "50%     8940.500000       0.000000  ...       0.000000      0.000000\n",
            "75%    13410.250000       0.000000  ...       1.000000      0.000000\n",
            "max    17880.000000       1.000000  ...       1.000000      1.000000\n",
            "\n",
            "[8 rows x 5 columns]\n",
            "NAs/NANs in data =>\n",
            "job_id                     0\n",
            "title                      0\n",
            "location                 346\n",
            "department             11547\n",
            "salary_range           15012\n",
            "company_profile         3308\n",
            "description                1\n",
            "requirements            2695\n",
            "benefits                7210\n",
            "telecommuting              0\n",
            "has_company_logo           0\n",
            "has_questions              0\n",
            "employment_type         3471\n",
            "required_experience     7050\n",
            "required_education      8105\n",
            "industry                4903\n",
            "function                6455\n",
            "fraudulent                 0\n",
            "dtype: int64\n",
            "Maximum text length 14991\n"
          ],
          "name": "stdout"
        }
      ]
    },
    {
      "cell_type": "code",
      "metadata": {
        "id": "Du7VqtSUsaA1"
      },
      "source": [
        "# train-test split\n",
        "train_text, test_text, train_labels , test_labels = train_test_split(df['text'], df['fraudulent'] , test_size = 0.15)"
      ],
      "execution_count": 6,
      "outputs": []
    },
    {
      "cell_type": "code",
      "metadata": {
        "id": "oJIwNfj9XR_p",
        "colab": {
          "base_uri": "https://localhost:8080/"
        },
        "outputId": "a3516802-a59f-44f2-b366-886be6d13acb"
      },
      "source": [
        "# model 2: BOW + output node\n",
        "cv = CountVectorizer(strip_accents='unicode', lowercase=True, stop_words='english', dtype=np.int8, binary=True) \n",
        "cv_train_sparse = cv.fit_transform(train_text)\n",
        "cv_train_dense = sci.sparse.csr_matrix.todense(cv_train_sparse)\n",
        "\n",
        "cv_test_sparse = cv.transform(test_text)\n",
        "cv_test_dense = sci.sparse.csr_matrix.todense(cv_test_sparse)\n",
        "print('BOW for cv_train:', cv_train_dense.shape)\n",
        "print('BOW for cv_test:', cv_test_dense.shape)"
      ],
      "execution_count": 7,
      "outputs": [
        {
          "output_type": "stream",
          "text": [
            "BOW for cv_train: (15198, 96150)\n",
            "BOW for cv_test: (2682, 96150)\n"
          ],
          "name": "stdout"
        }
      ]
    },
    {
      "cell_type": "code",
      "metadata": {
        "colab": {
          "base_uri": "https://localhost:8080/"
        },
        "id": "Sbqeu9GT4UK7",
        "outputId": "17471089-d155-46fb-8045-5a474d449e2c"
      },
      "source": [
        "# no hidden layer model\n",
        "model2 = Sequential()\n",
        "model2.add(Dense(units = 1 , activation = 'sigmoid' , input_dim = cv_train_dense.shape[1]))\n",
        "model2.compile(optimizer = 'adam' , loss = 'binary_crossentropy' , metrics = ['accuracy', tf.keras.metrics.FalsePositives(), tf.keras.metrics.FalseNegatives()])\n",
        "model2.summary()"
      ],
      "execution_count": 8,
      "outputs": [
        {
          "output_type": "stream",
          "text": [
            "Model: \"sequential\"\n",
            "_________________________________________________________________\n",
            "Layer (type)                 Output Shape              Param #   \n",
            "=================================================================\n",
            "dense (Dense)                (None, 1)                 96151     \n",
            "=================================================================\n",
            "Total params: 96,151\n",
            "Trainable params: 96,151\n",
            "Non-trainable params: 0\n",
            "_________________________________________________________________\n"
          ],
          "name": "stdout"
        }
      ]
    },
    {
      "cell_type": "code",
      "metadata": {
        "colab": {
          "base_uri": "https://localhost:8080/"
        },
        "id": "398uFsFj4oBz",
        "outputId": "eb9c7773-6464-4b46-a33c-dd661eeb2d3f"
      },
      "source": [
        "model2.fit(cv_train_dense, train_labels, epochs = 30)"
      ],
      "execution_count": 9,
      "outputs": [
        {
          "output_type": "stream",
          "text": [
            "Epoch 1/30\n",
            "475/475 [==============================] - 6s 10ms/step - loss: 0.2029 - accuracy: 0.9457 - false_positives: 12.9958 - false_negatives: 345.8277\n",
            "Epoch 2/30\n",
            "475/475 [==============================] - 5s 10ms/step - loss: 0.0611 - accuracy: 0.9819 - false_positives: 4.0294 - false_negatives: 135.5231\n",
            "Epoch 3/30\n",
            "475/475 [==============================] - 5s 10ms/step - loss: 0.0380 - accuracy: 0.9895 - false_positives: 4.0630 - false_negatives: 74.4328\n",
            "Epoch 4/30\n",
            "475/475 [==============================] - 5s 10ms/step - loss: 0.0272 - accuracy: 0.9923 - false_positives: 3.8529 - false_negatives: 52.9160\n",
            "Epoch 5/30\n",
            "475/475 [==============================] - 5s 10ms/step - loss: 0.0201 - accuracy: 0.9960 - false_positives: 2.5000 - false_negatives: 30.5126\n",
            "Epoch 6/30\n",
            "475/475 [==============================] - 5s 10ms/step - loss: 0.0157 - accuracy: 0.9972 - false_positives: 1.5273 - false_negatives: 20.8004\n",
            "Epoch 7/30\n",
            "475/475 [==============================] - 5s 10ms/step - loss: 0.0122 - accuracy: 0.9985 - false_positives: 0.7164 - false_negatives: 10.7563\n",
            "Epoch 8/30\n",
            "475/475 [==============================] - 5s 10ms/step - loss: 0.0093 - accuracy: 0.9995 - false_positives: 0.0000e+00 - false_negatives: 5.1513\n",
            "Epoch 9/30\n",
            "475/475 [==============================] - 5s 10ms/step - loss: 0.0080 - accuracy: 0.9994 - false_positives: 0.4391 - false_negatives: 4.9412\n",
            "Epoch 10/30\n",
            "475/475 [==============================] - 5s 10ms/step - loss: 0.0063 - accuracy: 0.9997 - false_positives: 0.0000e+00 - false_negatives: 2.9748\n",
            "Epoch 11/30\n",
            "475/475 [==============================] - 5s 10ms/step - loss: 0.0054 - accuracy: 0.9995 - false_positives: 0.0000e+00 - false_negatives: 3.6996\n",
            "Epoch 12/30\n",
            "475/475 [==============================] - 5s 10ms/step - loss: 0.0052 - accuracy: 0.9997 - false_positives: 0.0000e+00 - false_negatives: 2.7080\n",
            "Epoch 13/30\n",
            "475/475 [==============================] - 5s 10ms/step - loss: 0.0040 - accuracy: 0.9998 - false_positives: 0.0000e+00 - false_negatives: 1.8929\n",
            "Epoch 14/30\n",
            "475/475 [==============================] - 5s 10ms/step - loss: 0.0036 - accuracy: 0.9995 - false_positives: 0.6828 - false_negatives: 2.3845\n",
            "Epoch 15/30\n",
            "475/475 [==============================] - 5s 10ms/step - loss: 0.0028 - accuracy: 0.9999 - false_positives: 0.0000e+00 - false_negatives: 0.9055\n",
            "Epoch 16/30\n",
            "475/475 [==============================] - 5s 10ms/step - loss: 0.0028 - accuracy: 0.9998 - false_positives: 0.0000e+00 - false_negatives: 0.9706\n",
            "Epoch 17/30\n",
            "475/475 [==============================] - 5s 10ms/step - loss: 0.0022 - accuracy: 1.0000 - false_positives: 0.0000e+00 - false_negatives: 0.4244\n",
            "Epoch 18/30\n",
            "475/475 [==============================] - 5s 11ms/step - loss: 0.0020 - accuracy: 1.0000 - false_positives: 0.0000e+00 - false_negatives: 0.1071\n",
            "Epoch 19/30\n",
            "475/475 [==============================] - 5s 10ms/step - loss: 0.0018 - accuracy: 0.9999 - false_positives: 0.0000e+00 - false_negatives: 0.7416\n",
            "Epoch 20/30\n",
            "475/475 [==============================] - 5s 10ms/step - loss: 0.0014 - accuracy: 0.9998 - false_positives: 0.0000e+00 - false_negatives: 0.9412\n",
            "Epoch 21/30\n",
            "475/475 [==============================] - 5s 10ms/step - loss: 0.0012 - accuracy: 1.0000 - false_positives: 0.0000e+00 - false_negatives: 0.0000e+00\n",
            "Epoch 22/30\n",
            "475/475 [==============================] - 5s 10ms/step - loss: 8.7680e-04 - accuracy: 1.0000 - false_positives: 0.0000e+00 - false_negatives: 0.0000e+00\n",
            "Epoch 23/30\n",
            "475/475 [==============================] - 5s 10ms/step - loss: 9.0270e-04 - accuracy: 1.0000 - false_positives: 0.0000e+00 - false_negatives: 0.0000e+00\n",
            "Epoch 24/30\n",
            "475/475 [==============================] - 5s 10ms/step - loss: 6.9584e-04 - accuracy: 1.0000 - false_positives: 0.0000e+00 - false_negatives: 0.0000e+00\n",
            "Epoch 25/30\n",
            "475/475 [==============================] - 5s 10ms/step - loss: 5.6971e-04 - accuracy: 1.0000 - false_positives: 0.0000e+00 - false_negatives: 0.0000e+00\n",
            "Epoch 26/30\n",
            "475/475 [==============================] - 5s 10ms/step - loss: 4.8544e-04 - accuracy: 1.0000 - false_positives: 0.0000e+00 - false_negatives: 0.0000e+00\n",
            "Epoch 27/30\n",
            "475/475 [==============================] - 5s 10ms/step - loss: 5.2912e-04 - accuracy: 1.0000 - false_positives: 0.0000e+00 - false_negatives: 0.0000e+00\n",
            "Epoch 28/30\n",
            "475/475 [==============================] - 5s 10ms/step - loss: 3.9170e-04 - accuracy: 1.0000 - false_positives: 0.0000e+00 - false_negatives: 0.0000e+00\n",
            "Epoch 29/30\n",
            "475/475 [==============================] - 5s 10ms/step - loss: 4.1622e-04 - accuracy: 1.0000 - false_positives: 0.0000e+00 - false_negatives: 0.0000e+00\n",
            "Epoch 30/30\n",
            "475/475 [==============================] - 5s 10ms/step - loss: 2.7202e-04 - accuracy: 1.0000 - false_positives: 0.0000e+00 - false_negatives: 0.0000e+00\n"
          ],
          "name": "stdout"
        },
        {
          "output_type": "execute_result",
          "data": {
            "text/plain": [
              "<tensorflow.python.keras.callbacks.History at 0x7f0c0994ec50>"
            ]
          },
          "metadata": {
            "tags": []
          },
          "execution_count": 9
        }
      ]
    },
    {
      "cell_type": "code",
      "metadata": {
        "id": "xOjta4P14soE"
      },
      "source": [
        "pred_soft2 = model2.predict(cv_test_dense)"
      ],
      "execution_count": 10,
      "outputs": []
    },
    {
      "cell_type": "code",
      "metadata": {
        "colab": {
          "base_uri": "https://localhost:8080/"
        },
        "id": "cRrgjHlO4yc5",
        "outputId": "07aa07dd-56d8-46b4-f957-cdfc11468998"
      },
      "source": [
        "# pred = np.around(pred_soft, decimals = 0)\n",
        "pred = np.where(pred_soft2 > 0.15, 1, 0)\n",
        "\n",
        "acc = accuracy_score(pred, test_labels)\n",
        "f1 = f1_score(pred, test_labels)\n",
        "\n",
        "cm = confusion_matrix(test_labels, pred)\n",
        "tn = cm[0][0]\n",
        "fn = cm[1][0]\n",
        "tp = cm[1][1]\n",
        "fp = cm[0][1]\n",
        "\n",
        "print('Accuracy score: {:.4f}'.format(acc), 'F1 score: {:.4f}'.format(f1))\n",
        "print('False Positives: {:.0f}'.format(fp), 'False Negatives: {:.0f}'.format(fn))\n",
        "print('Confusion matrix:\\n', cm)"
      ],
      "execution_count": 11,
      "outputs": [
        {
          "output_type": "stream",
          "text": [
            "Accuracy score: 0.9870 F1 score: 0.8718\n",
            "False Positives: 10 False Negatives: 25\n",
            "Confusion matrix:\n",
            " [[2528   10]\n",
            " [  25  119]]\n"
          ],
          "name": "stdout"
        }
      ]
    }
  ]
}