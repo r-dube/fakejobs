{
  "nbformat": 4,
  "nbformat_minor": 0,
  "metadata": {
    "colab": {
      "name": "fj_nohidden.ipynb",
      "provenance": [],
      "collapsed_sections": [],
      "authorship_tag": "ABX9TyMVZsUZvxuq0dfs2kZz9kjP",
      "include_colab_link": true
    },
    "kernelspec": {
      "name": "python3",
      "display_name": "Python 3"
    }
  },
  "cells": [
    {
      "cell_type": "markdown",
      "metadata": {
        "id": "view-in-github",
        "colab_type": "text"
      },
      "source": [
        "<a href=\"https://colab.research.google.com/github/r-dube/fakejobs/blob/main/fj_nohidden.ipynb\" target=\"_parent\"><img src=\"https://colab.research.google.com/assets/colab-badge.svg\" alt=\"Open In Colab\"/></a>"
      ]
    },
    {
      "cell_type": "code",
      "metadata": {
        "id": "NFWTUL3GCHsG"
      },
      "source": [
        "# Load the modules used\n",
        "import numpy as np\n",
        "import scipy as sci\n",
        "import pandas as pd\n",
        "import string\n",
        "import re\n",
        "from sklearn.model_selection import train_test_split\n",
        "from sklearn.feature_extraction.text import CountVectorizer\n",
        "from sklearn.metrics import accuracy_score, f1_score, confusion_matrix\n",
        "# from sklearn.linear_model import LogisticRegression\n",
        "import tensorflow as tf\n",
        "import keras\n",
        "from keras.models import Sequential\n",
        "from keras.layers import Dense, Dropout"
      ],
      "execution_count": 1,
      "outputs": []
    },
    {
      "cell_type": "code",
      "metadata": {
        "id": "55AqcsYyb-aa"
      },
      "source": [
        "# For reproducible results\n",
        "# except for variability introduced by GPU\n",
        "import random as rn\n",
        "import os\n",
        "os.environ['PYTHONHASHSEED'] = '42'\n",
        "# os.environ['CUDA_VISIBLE_DEVICES'] = '-1' # avoid using GPU for reproducible results\n",
        "np.random.seed(42)\n",
        "rn.seed(42)\n",
        "tf.random.set_seed(42)"
      ],
      "execution_count": 2,
      "outputs": []
    },
    {
      "cell_type": "code",
      "metadata": {
        "id": "rrnTamUHDzxI"
      },
      "source": [
        "# Set data_url, the location of the data\n",
        "# Data is not loaded from a local file\n",
        "# data_url=\"https://raw.githubusercontent.com/r-dube/fakejobs/main/data/fj_small.csv\"\n",
        "# data_url=\"https://raw.githubusercontent.com/r-dube/fakejobs/main/data/fj_medium.csv\"\n",
        "data_url=\"https://raw.githubusercontent.com/r-dube/fakejobs/main/data/fake_job_postings.csv\""
      ],
      "execution_count": 3,
      "outputs": []
    },
    {
      "cell_type": "code",
      "metadata": {
        "id": "usYPD_l1Bimz"
      },
      "source": [
        "def fj_load_df_from_url():\n",
        "    \"\"\"\n",
        "    Load dataframe from csv file\n",
        "    Input:\n",
        "        None\n",
        "    Returns:\n",
        "        dataframe\n",
        "    \"\"\"\n",
        "\n",
        "    df = pd.read_csv(data_url)\n",
        "\n",
        "    print ('Loaded dataframe shape', df.shape)\n",
        "\n",
        "    counts = fj_label_stats(df)\n",
        "    print ('Not fraudulent', counts[0], 'Fraudulent', counts[1])\n",
        "\n",
        "    print(df.describe())\n",
        "\n",
        "    print ('NAs/NANs in data =>')\n",
        "    print(df.isna().sum())\n",
        "\n",
        "    return df\n",
        "\n",
        "def fj_label_stats(df):\n",
        "    \"\"\"\n",
        "    Very basic label statistics\n",
        "    Input: \n",
        "        Dataframe\n",
        "    Returns:\n",
        "        Number of samples with 0, 1 as the label\n",
        "    \"\"\"\n",
        "    counts = np.bincount(df['fraudulent'])\n",
        "    return counts\n",
        "\n",
        "def fj_txt_only(df):\n",
        "    \"\"\"\n",
        "    Combine all the text fields, discard everything else except for the label\n",
        "    Input: \n",
        "        Dataframe\n",
        "    Returns:\n",
        "        Processed dataframe\n",
        "    \"\"\"\n",
        "    \n",
        "    df.fillna(\" \", inplace = True)\n",
        "\n",
        "    df['text'] = df['title'] + ' ' + df['location'] + ' ' + df['department'] + \\\n",
        "    ' ' + df['company_profile'] + ' ' + df['description'] + ' ' + \\\n",
        "    df['requirements'] + ' ' + df['benefits'] + ' ' + df['employment_type'] + \\\n",
        "    ' ' + df['required_education'] + ' ' + df['industry'] + ' ' + df['function'] \n",
        "\n",
        "    del df['title']\n",
        "    del df['location']\n",
        "    del df['department']\n",
        "    del df['company_profile']\n",
        "    del df['description']\n",
        "    del df['requirements']\n",
        "    del df['benefits']\n",
        "    del df['employment_type']\n",
        "    del df['required_experience']\n",
        "    del df['required_education']\n",
        "    del df['industry']\n",
        "    del df['function']  \n",
        "    \n",
        "    del df['salary_range']\n",
        "    del df['job_id']\n",
        "    del df['telecommuting']\n",
        "    del df['has_company_logo']\n",
        "    del df['has_questions']\n",
        "\n",
        "    return df"
      ],
      "execution_count": 4,
      "outputs": []
    },
    {
      "cell_type": "code",
      "metadata": {
        "id": "Lks9Mm0Tc1l2",
        "colab": {
          "base_uri": "https://localhost:8080/"
        },
        "outputId": "dfcc6b39-66cd-4248-dbb7-3e7d2666530e"
      },
      "source": [
        "df = fj_load_df_from_url()\n",
        "df = fj_txt_only(df)\n",
        "print('Maximum text length', df['text'].str.len().max())"
      ],
      "execution_count": 5,
      "outputs": [
        {
          "output_type": "stream",
          "text": [
            "Loaded dataframe shape (17880, 18)\n",
            "Not fraudulent 17014 Fraudulent 866\n",
            "             job_id  telecommuting  ...  has_questions    fraudulent\n",
            "count  17880.000000   17880.000000  ...   17880.000000  17880.000000\n",
            "mean    8940.500000       0.042897  ...       0.491723      0.048434\n",
            "std     5161.655742       0.202631  ...       0.499945      0.214688\n",
            "min        1.000000       0.000000  ...       0.000000      0.000000\n",
            "25%     4470.750000       0.000000  ...       0.000000      0.000000\n",
            "50%     8940.500000       0.000000  ...       0.000000      0.000000\n",
            "75%    13410.250000       0.000000  ...       1.000000      0.000000\n",
            "max    17880.000000       1.000000  ...       1.000000      1.000000\n",
            "\n",
            "[8 rows x 5 columns]\n",
            "NAs/NANs in data =>\n",
            "job_id                     0\n",
            "title                      0\n",
            "location                 346\n",
            "department             11547\n",
            "salary_range           15012\n",
            "company_profile         3308\n",
            "description                1\n",
            "requirements            2695\n",
            "benefits                7210\n",
            "telecommuting              0\n",
            "has_company_logo           0\n",
            "has_questions              0\n",
            "employment_type         3471\n",
            "required_experience     7050\n",
            "required_education      8105\n",
            "industry                4903\n",
            "function                6455\n",
            "fraudulent                 0\n",
            "dtype: int64\n",
            "Maximum text length 14991\n"
          ],
          "name": "stdout"
        }
      ]
    },
    {
      "cell_type": "code",
      "metadata": {
        "id": "Du7VqtSUsaA1"
      },
      "source": [
        "# train-test split\n",
        "train_text, test_text, train_labels , test_labels = train_test_split(df['text'], df['fraudulent'] , test_size = 0.15)"
      ],
      "execution_count": 6,
      "outputs": []
    },
    {
      "cell_type": "code",
      "metadata": {
        "id": "oJIwNfj9XR_p",
        "colab": {
          "base_uri": "https://localhost:8080/"
        },
        "outputId": "1aa0a23f-2565-441b-d3a9-83a6ff67880f"
      },
      "source": [
        "# model 2: BOW + output node\n",
        "cv = CountVectorizer(strip_accents='unicode', lowercase=True, stop_words='english', dtype=np.int8) \n",
        "cv_train_sparse = cv.fit_transform(train_text)\n",
        "cv_train_dense = sci.sparse.csr_matrix.todense(cv_train_sparse)\n",
        "\n",
        "cv_test_sparse = cv.transform(test_text)\n",
        "cv_test_dense = sci.sparse.csr_matrix.todense(cv_test_sparse)\n",
        "print('BOW for cv_train:', cv_train_dense.shape)\n",
        "print('BOW for cv_test:', cv_test_dense.shape)"
      ],
      "execution_count": 7,
      "outputs": [
        {
          "output_type": "stream",
          "text": [
            "BOW for cv_train: (15198, 96150)\n",
            "BOW for cv_test: (2682, 96150)\n"
          ],
          "name": "stdout"
        }
      ]
    },
    {
      "cell_type": "code",
      "metadata": {
        "colab": {
          "base_uri": "https://localhost:8080/"
        },
        "id": "Sbqeu9GT4UK7",
        "outputId": "c6db23dc-d977-4fb3-bd49-38e921fbbda8"
      },
      "source": [
        "# no hidden layer model\n",
        "model2 = Sequential()\n",
        "model2.add(Dense(units = 1 , activation = 'sigmoid' , input_dim = cv_train_dense.shape[1]))\n",
        "model2.compile(optimizer = 'adam' , loss = 'binary_crossentropy' , metrics = ['accuracy', tf.keras.metrics.FalsePositives(), tf.keras.metrics.FalseNegatives()])\n",
        "model2.summary()"
      ],
      "execution_count": 8,
      "outputs": [
        {
          "output_type": "stream",
          "text": [
            "Model: \"sequential\"\n",
            "_________________________________________________________________\n",
            "Layer (type)                 Output Shape              Param #   \n",
            "=================================================================\n",
            "dense (Dense)                (None, 1)                 96151     \n",
            "=================================================================\n",
            "Total params: 96,151\n",
            "Trainable params: 96,151\n",
            "Non-trainable params: 0\n",
            "_________________________________________________________________\n"
          ],
          "name": "stdout"
        }
      ]
    },
    {
      "cell_type": "code",
      "metadata": {
        "colab": {
          "base_uri": "https://localhost:8080/"
        },
        "id": "398uFsFj4oBz",
        "outputId": "11e8a2fd-661a-4243-d27b-302d9251287c"
      },
      "source": [
        "model2.fit(cv_train_dense, train_labels, epochs = 30)"
      ],
      "execution_count": 9,
      "outputs": [
        {
          "output_type": "stream",
          "text": [
            "Epoch 1/30\n",
            "475/475 [==============================] - 7s 12ms/step - loss: 0.1886 - accuracy: 0.9488 - false_positives: 10.2794 - false_negatives: 325.3908\n",
            "Epoch 2/30\n",
            "475/475 [==============================] - 6s 12ms/step - loss: 0.0538 - accuracy: 0.9843 - false_positives: 8.0105 - false_negatives: 111.2017\n",
            "Epoch 3/30\n",
            "475/475 [==============================] - 6s 12ms/step - loss: 0.0330 - accuracy: 0.9904 - false_positives: 6.9916 - false_negatives: 62.4265\n",
            "Epoch 4/30\n",
            "475/475 [==============================] - 6s 12ms/step - loss: 0.0231 - accuracy: 0.9939 - false_positives: 1.3109 - false_negatives: 42.5840\n",
            "Epoch 5/30\n",
            "475/475 [==============================] - 6s 12ms/step - loss: 0.0170 - accuracy: 0.9971 - false_positives: 1.5777 - false_negatives: 21.6366\n",
            "Epoch 6/30\n",
            "475/475 [==============================] - 6s 12ms/step - loss: 0.0132 - accuracy: 0.9981 - false_positives: 1.0315 - false_negatives: 14.4559\n",
            "Epoch 7/30\n",
            "475/475 [==============================] - 6s 12ms/step - loss: 0.0103 - accuracy: 0.9992 - false_positives: 0.0000e+00 - false_negatives: 7.6996\n",
            "Epoch 8/30\n",
            "475/475 [==============================] - 6s 12ms/step - loss: 0.0079 - accuracy: 0.9996 - false_positives: 0.0000e+00 - false_negatives: 4.1954\n",
            "Epoch 9/30\n",
            "475/475 [==============================] - 6s 13ms/step - loss: 0.0067 - accuracy: 0.9995 - false_positives: 0.0000e+00 - false_negatives: 4.6345\n",
            "Epoch 10/30\n",
            "475/475 [==============================] - 6s 12ms/step - loss: 0.0055 - accuracy: 0.9996 - false_positives: 0.7710 - false_negatives: 3.0756\n",
            "Epoch 11/30\n",
            "475/475 [==============================] - 6s 12ms/step - loss: 0.0046 - accuracy: 0.9996 - false_positives: 0.0000e+00 - false_negatives: 3.2080\n",
            "Epoch 12/30\n",
            "475/475 [==============================] - 6s 12ms/step - loss: 0.0046 - accuracy: 0.9993 - false_positives: 0.9916 - false_negatives: 2.7962\n",
            "Epoch 13/30\n",
            "475/475 [==============================] - 6s 12ms/step - loss: 0.0034 - accuracy: 0.9998 - false_positives: 0.0000e+00 - false_negatives: 1.2752\n",
            "Epoch 14/30\n",
            "475/475 [==============================] - 6s 12ms/step - loss: 0.0032 - accuracy: 0.9996 - false_positives: 0.6828 - false_negatives: 1.8718\n",
            "Epoch 15/30\n",
            "475/475 [==============================] - 6s 13ms/step - loss: 0.0024 - accuracy: 1.0000 - false_positives: 0.0000e+00 - false_negatives: 0.4538\n",
            "Epoch 16/30\n",
            "475/475 [==============================] - 6s 12ms/step - loss: 0.0023 - accuracy: 0.9998 - false_positives: 0.0000e+00 - false_negatives: 0.9202\n",
            "Epoch 17/30\n",
            "475/475 [==============================] - 6s 13ms/step - loss: 0.0021 - accuracy: 0.9999 - false_positives: 0.5546 - false_negatives: 0.4244\n",
            "Epoch 18/30\n",
            "475/475 [==============================] - 6s 12ms/step - loss: 0.0018 - accuracy: 1.0000 - false_positives: 0.0000e+00 - false_negatives: 0.1071\n",
            "Epoch 19/30\n",
            "475/475 [==============================] - 6s 12ms/step - loss: 0.0016 - accuracy: 0.9999 - false_positives: 0.0000e+00 - false_negatives: 0.7416\n",
            "Epoch 20/30\n",
            "475/475 [==============================] - 6s 12ms/step - loss: 0.0013 - accuracy: 0.9998 - false_positives: 0.0000e+00 - false_negatives: 0.9412\n",
            "Epoch 21/30\n",
            "475/475 [==============================] - 6s 12ms/step - loss: 0.0010 - accuracy: 0.9999 - false_positives: 0.0000e+00 - false_negatives: 0.6912\n",
            "Epoch 22/30\n",
            "475/475 [==============================] - 6s 12ms/step - loss: 7.2284e-04 - accuracy: 1.0000 - false_positives: 0.0000e+00 - false_negatives: 0.0378\n",
            "Epoch 23/30\n",
            "475/475 [==============================] - 6s 12ms/step - loss: 7.5905e-04 - accuracy: 1.0000 - false_positives: 0.0000e+00 - false_negatives: 0.4664\n",
            "Epoch 24/30\n",
            "475/475 [==============================] - 6s 12ms/step - loss: 6.0488e-04 - accuracy: 1.0000 - false_positives: 0.0000e+00 - false_negatives: 0.0000e+00\n",
            "Epoch 25/30\n",
            "475/475 [==============================] - 6s 12ms/step - loss: 4.8895e-04 - accuracy: 1.0000 - false_positives: 0.0000e+00 - false_negatives: 0.0000e+00\n",
            "Epoch 26/30\n",
            "475/475 [==============================] - 6s 12ms/step - loss: 4.2893e-04 - accuracy: 1.0000 - false_positives: 0.0000e+00 - false_negatives: 0.0000e+00\n",
            "Epoch 27/30\n",
            "475/475 [==============================] - 6s 12ms/step - loss: 4.3967e-04 - accuracy: 1.0000 - false_positives: 0.0000e+00 - false_negatives: 0.0000e+00\n",
            "Epoch 28/30\n",
            "475/475 [==============================] - 6s 12ms/step - loss: 3.3861e-04 - accuracy: 1.0000 - false_positives: 0.0000e+00 - false_negatives: 0.0000e+00\n",
            "Epoch 29/30\n",
            "475/475 [==============================] - 6s 12ms/step - loss: 3.2731e-04 - accuracy: 1.0000 - false_positives: 0.0000e+00 - false_negatives: 0.0000e+00\n",
            "Epoch 30/30\n",
            "475/475 [==============================] - 6s 12ms/step - loss: 2.2302e-04 - accuracy: 1.0000 - false_positives: 0.0000e+00 - false_negatives: 0.0000e+00\n"
          ],
          "name": "stdout"
        },
        {
          "output_type": "execute_result",
          "data": {
            "text/plain": [
              "<tensorflow.python.keras.callbacks.History at 0x7fa47bdaa7f0>"
            ]
          },
          "metadata": {
            "tags": []
          },
          "execution_count": 9
        }
      ]
    },
    {
      "cell_type": "code",
      "metadata": {
        "id": "xOjta4P14soE"
      },
      "source": [
        "pred_soft2 = model2.predict(cv_test_dense)"
      ],
      "execution_count": 10,
      "outputs": []
    },
    {
      "cell_type": "code",
      "metadata": {
        "colab": {
          "base_uri": "https://localhost:8080/"
        },
        "id": "cRrgjHlO4yc5",
        "outputId": "84cc8429-73cf-4276-9c0b-356afde8a6c9"
      },
      "source": [
        "# pred = np.around(pred_soft, decimals = 0)\n",
        "pred = np.where(pred_soft2 > 0.15, 1, 0)\n",
        "\n",
        "acc = accuracy_score(pred, test_labels)\n",
        "f1 = f1_score(pred, test_labels)\n",
        "\n",
        "cm = confusion_matrix(test_labels, pred)\n",
        "tn = cm[0][0]\n",
        "fn = cm[1][0]\n",
        "tp = cm[1][1]\n",
        "fp = cm[0][1]\n",
        "\n",
        "print('Accuracy score: {:.4f}'.format(acc), 'F1 score: {:.4f}'.format(f1))\n",
        "print('False Positives: {:.0f}'.format(fp), 'False Negatives: {:.0f}'.format(fn))\n",
        "print('Confusion matrix:\\n', cm)"
      ],
      "execution_count": 11,
      "outputs": [
        {
          "output_type": "stream",
          "text": [
            "Accuracy score: 0.9851 F1 score: 0.8551\n",
            "False Positives: 14 False Negatives: 26\n",
            "Confusion matrix:\n",
            " [[2524   14]\n",
            " [  26  118]]\n"
          ],
          "name": "stdout"
        }
      ]
    }
  ]
}