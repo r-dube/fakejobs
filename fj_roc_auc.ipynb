{
  "nbformat": 4,
  "nbformat_minor": 0,
  "metadata": {
    "colab": {
      "name": "fj_roc_auc.ipynb",
      "provenance": [],
      "collapsed_sections": [],
      "authorship_tag": "ABX9TyOje4sa/x0UcWX5lAC/RoYW",
      "include_colab_link": true
    },
    "kernelspec": {
      "name": "python3",
      "display_name": "Python 3"
    }
  },
  "cells": [
    {
      "cell_type": "markdown",
      "metadata": {
        "id": "view-in-github",
        "colab_type": "text"
      },
      "source": [
        "<a href=\"https://colab.research.google.com/github/r-dube/fakejobs/blob/main/fj_roc_auc.ipynb\" target=\"_parent\"><img src=\"https://colab.research.google.com/assets/colab-badge.svg\" alt=\"Open In Colab\"/></a>"
      ]
    },
    {
      "cell_type": "code",
      "metadata": {
        "id": "NFWTUL3GCHsG"
      },
      "source": [
        "# Load the modules used\n",
        "import numpy as np\n",
        "import scipy as sci\n",
        "import pandas as pd\n",
        "from sklearn.metrics import accuracy_score, f1_score, confusion_matrix, roc_curve\n",
        "import matplotlib.pyplot as plt"
      ],
      "execution_count": 26,
      "outputs": []
    },
    {
      "cell_type": "code",
      "metadata": {
        "colab": {
          "base_uri": "https://localhost:8080/"
        },
        "id": "ZhM7IbDJe_w7",
        "outputId": "a4a4cebb-a51b-45a2-b520-9bc1dd32a3ef"
      },
      "source": [
        "# Uncomment to load results from csv files\n",
        "from google.colab import drive\n",
        "drive.mount('/content/drive')\n",
        "\n",
        "fcnn_file = '/content/drive/My Drive/Results/fcnn.csv'\n",
        "lstm_file = '/content/drive/My Drive/Results/lstm.csv'\n",
        "transformer_file = '/content/drive/My Drive/Results/transformer.csv'\n",
        "logistic_file = '/content/drive/My Drive/Results/logistic.csv'\n",
        "\n",
        "df_fcnn = pd.read_csv(fcnn_file)\n",
        "df_lstm = pd.read_csv(lstm_file)\n",
        "df_transformer = pd.read_csv(transformer_file)\n",
        "df_logistic = pd.read_csv(logistic_file)"
      ],
      "execution_count": 27,
      "outputs": [
        {
          "output_type": "stream",
          "text": [
            "Drive already mounted at /content/drive; to attempt to forcibly remount, call drive.mount(\"/content/drive\", force_remount=True).\n"
          ],
          "name": "stdout"
        }
      ]
    },
    {
      "cell_type": "code",
      "metadata": {
        "colab": {
          "base_uri": "https://localhost:8080/"
        },
        "id": "6AVUjMOEnvc1",
        "outputId": "bb60a476-e398-4a3b-ed04-84cc3313041f"
      },
      "source": [
        "# Sanity check loaded data\n",
        "# Create dataset for ROC\n",
        "df_fcnn = df_fcnn[['fraudulent', 'fcnn']]\n",
        "# print(df_fcnn.head())\n",
        "df_lstm = df_lstm[['lstm']]\n",
        "# print(df_lstm.head())\n",
        "df_transformer = df_transformer[['transformer']]\n",
        "# print(df_transformer.head())\n",
        "df_logistic = df_logistic[['logistic']]\n",
        "# print(df_logistic.head())\n",
        "df = pd.concat([df_fcnn, df_lstm, df_transformer, df_logistic], axis=1)\n",
        "print(df.head())"
      ],
      "execution_count": 28,
      "outputs": [
        {
          "output_type": "stream",
          "text": [
            "   fraudulent          fcnn      lstm   transformer      logistic\n",
            "0           0  2.095921e-10  0.000002  6.238354e-07  2.228161e-05\n",
            "1           0  3.895740e-09  0.000018  9.412836e-07  3.750577e-03\n",
            "2           0  1.250730e-13  0.000035  5.618517e-07  4.887090e-05\n",
            "3           0  1.283309e-14  0.000001  3.591958e-07  2.149328e-08\n",
            "4           0  1.278826e-12  0.000003  4.954410e-07  7.783772e-06\n"
          ],
          "name": "stdout"
        }
      ]
    },
    {
      "cell_type": "code",
      "metadata": {
        "colab": {
          "base_uri": "https://localhost:8080/",
          "height": 295
        },
        "id": "_0N5Hq3eusQj",
        "outputId": "e93fb37f-236c-472a-ca09-6fdf2270dcd2"
      },
      "source": [
        "fpr1, tpr1, thresholds1 = roc_curve(df['fraudulent'], df['fcnn'])\n",
        "fpr2, tpr2, thresholds2 = roc_curve(df['fraudulent'], df['lstm'])\n",
        "fpr3, tpr3, thresholds3 = roc_curve(df['fraudulent'], df['transformer'])\n",
        "fpr4, tpr4, thresholds4 = roc_curve(df['fraudulent'], df['logistic'])\n",
        "\n",
        "plt.plot([0,1],[0,1], 'k--')\n",
        "plt.plot(fpr1, tpr1, label= \"FCNN\")\n",
        "plt.plot(fpr2, tpr2, label= \"LSTM\")\n",
        "plt.plot(fpr3, tpr3, label= \"Transformer\")\n",
        "plt.plot(fpr4, tpr4, label= \"Logistic\")\n",
        "plt.legend()\n",
        "plt.xlabel(\"FPR\")\n",
        "plt.ylabel(\"TPR\")\n",
        "plt.title('Receiver Operating Characteristic')\n",
        "plt.xlim(-0.005, 0.1)\n",
        "plt.ylim(0.6, 1)\n",
        "plt.show()"
      ],
      "execution_count": 29,
      "outputs": [
        {
          "output_type": "display_data",
          "data": {
            "image/png": "[encoded data removed]",
            "text/plain": [
              "<Figure size 432x288 with 1 Axes>"
            ]
          },
          "metadata": {
            "tags": [],
            "needs_background": "light"
          }
        }
      ]
    },
    {
      "cell_type": "code",
      "metadata": {
        "id": "QFjtHgAHRWxj"
      },
      "source": [
        "# ROC curves for the more complicated models\n",
        "ngram_file = '/content/drive/My Drive/Results/fj_ngram.csv'\n",
        "char_cnn_file = '/content/drive/My Drive/Results/fj_char_cnn.csv'\n",
        "embedding_composite_file = '/content/drive/My Drive/Results/fj_embedding_composite.csv'\n",
        "logistic_file = '/content/drive/My Drive/Results/logistic.csv'\n",
        "\n",
        "df_ngram = pd.read_csv(ngram_file)\n",
        "df_char_cnn = pd.read_csv(char_cnn_file)\n",
        "df_embedding_composite = pd.read_csv(embedding_composite_file)\n",
        "df_logistic = pd.read_csv(logistic_file)"
      ],
      "execution_count": 30,
      "outputs": []
    },
    {
      "cell_type": "code",
      "metadata": {
        "colab": {
          "base_uri": "https://localhost:8080/"
        },
        "id": "GVONPI3jSTST",
        "outputId": "73bab297-92f6-4aa4-98d0-2c67e134e919"
      },
      "source": [
        "# Sanity check loaded data\n",
        "# Create dataset for ROC\n",
        "df_ngram = df_ngram[['fraudulent', 'ngram']]\n",
        "df_char_cnn = df_char_cnn[['char_cnn']]\n",
        "df_embedding_composite = df_embedding_composite[['embedding_composite']]\n",
        "df_logistic = df_logistic[['logistic']]\n",
        "df = pd.concat([df_ngram, df_char_cnn, df_embedding_composite, df_logistic], axis=1)\n",
        "print(df.head())"
      ],
      "execution_count": 31,
      "outputs": [
        {
          "output_type": "stream",
          "text": [
            "   fraudulent     ngram      char_cnn  embedding_composite      logistic\n",
            "0           0  0.005424  9.034756e-18             0.000075  2.228161e-05\n",
            "1           0  0.067490  1.499845e-06             0.005105  3.750577e-03\n",
            "2           0  0.018924  1.848104e-12             0.000112  4.887090e-05\n",
            "3           0  0.004664  8.305288e-14             0.000010  2.149328e-08\n",
            "4           0  0.014769  2.201111e-14             0.000010  7.783772e-06\n"
          ],
          "name": "stdout"
        }
      ]
    },
    {
      "cell_type": "code",
      "metadata": {
        "colab": {
          "base_uri": "https://localhost:8080/",
          "height": 295
        },
        "id": "DCxlYyHoS65m",
        "outputId": "da70aedb-1fb2-4937-d676-cb82da66615a"
      },
      "source": [
        "fpr1, tpr1, thresholds1 = roc_curve(df['fraudulent'], df['ngram'])\n",
        "fpr2, tpr2, thresholds2 = roc_curve(df['fraudulent'], df['char_cnn'])\n",
        "fpr3, tpr3, thresholds3 = roc_curve(df['fraudulent'], df['embedding_composite'])\n",
        "fpr4, tpr4, thresholds4 = roc_curve(df['fraudulent'], df['logistic'])\n",
        "\n",
        "plt.plot([0,1],[0,1], 'k--')\n",
        "plt.plot(fpr1, tpr1, label= \"Ngram-TfIdf-Logistic\")\n",
        "plt.plot(fpr2, tpr2, label= \"Char-CNN\")\n",
        "plt.plot(fpr3, tpr3, label= \"Word2Vec-Word-Char\")\n",
        "plt.plot(fpr4, tpr4, label= \"BoW-Logistic\")\n",
        "plt.legend()\n",
        "plt.xlabel(\"FPR\")\n",
        "plt.ylabel(\"TPR\")\n",
        "plt.title('Receiver Operating Characteristic')\n",
        "plt.xlim(-0.005, 0.1)\n",
        "plt.ylim(0.6, 1)\n",
        "plt.show()"
      ],
      "execution_count": 32,
      "outputs": [
        {
          "output_type": "display_data",
          "data": {
            "image/png": "[encoded data removed]",
            "text/plain": [
              "<Figure size 432x288 with 1 Axes>"
            ]
          },
          "metadata": {
            "tags": [],
            "needs_background": "light"
          }
        }
      ]
    }
  ]
}