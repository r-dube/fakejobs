{
  "nbformat": 4,
  "nbformat_minor": 0,
  "metadata": {
    "colab": {
      "name": "fj_roc_auc.ipynb",
      "provenance": [],
      "collapsed_sections": [],
      "authorship_tag": "ABX9TyMmAQsoBAO1TC9EiAE+BPQ/",
      "include_colab_link": true
    },
    "kernelspec": {
      "name": "python3",
      "display_name": "Python 3"
    }
  },
  "cells": [
    {
      "cell_type": "markdown",
      "metadata": {
        "id": "view-in-github",
        "colab_type": "text"
      },
      "source": [
        "<a href=\"https://colab.research.google.com/github/r-dube/fakejobs/blob/main/fj_roc_auc.ipynb\" target=\"_parent\"><img src=\"https://colab.research.google.com/assets/colab-badge.svg\" alt=\"Open In Colab\"/></a>"
      ]
    },
    {
      "cell_type": "code",
      "metadata": {
        "id": "NFWTUL3GCHsG"
      },
      "source": [
        "# Load the modules used\n",
        "import numpy as np\n",
        "import scipy as sci\n",
        "import pandas as pd\n",
        "from sklearn.metrics import accuracy_score, f1_score, confusion_matrix, roc_curve\n",
        "import matplotlib.pyplot as plt"
      ],
      "execution_count": 1,
      "outputs": []
    },
    {
      "cell_type": "code",
      "metadata": {
        "colab": {
          "base_uri": "https://localhost:8080/"
        },
        "id": "ZhM7IbDJe_w7",
        "outputId": "bdf1fc51-f87c-4ac9-e6ce-d772b2846687"
      },
      "source": [
        "# Uncomment to load results from csv files\n",
        "from google.colab import drive\n",
        "drive.mount('/content/drive')\n",
        "\n",
        "fcnn_file = '/content/drive/My Drive/Results/fcnn.csv'\n",
        "lstm_file = '/content/drive/My Drive/Results/lstm.csv'\n",
        "transformer_file = '/content/drive/My Drive/Results/transformer.csv'\n",
        "logistic_file = '/content/drive/My Drive/Results/logistic.csv'\n",
        "\n",
        "df_fcnn = pd.read_csv(fcnn_file)\n",
        "df_lstm = pd.read_csv(lstm_file)\n",
        "df_transformer = pd.read_csv(transformer_file)\n",
        "df_logistic = pd.read_csv(logistic_file)"
      ],
      "execution_count": 2,
      "outputs": [
        {
          "output_type": "stream",
          "text": [
            "Drive already mounted at /content/drive; to attempt to forcibly remount, call drive.mount(\"/content/drive\", force_remount=True).\n"
          ],
          "name": "stdout"
        }
      ]
    },
    {
      "cell_type": "code",
      "metadata": {
        "colab": {
          "base_uri": "https://localhost:8080/"
        },
        "id": "6AVUjMOEnvc1",
        "outputId": "6e212e4d-5b44-4d80-bfeb-34a044fd23ba"
      },
      "source": [
        "# Sanity check loaded data\n",
        "# Create dataset for ROC\n",
        "df_fcnn = df_fcnn[['fraudulent', 'fcnn']]\n",
        "# print(df_fcnn.head())\n",
        "df_lstm = df_lstm[['lstm']]\n",
        "# print(df_lstm.head())\n",
        "df_transformer = df_transformer[['transformer']]\n",
        "# print(df_transformer.head())\n",
        "df_logistic = df_logistic[['logistic']]\n",
        "# print(df_logistic.head())\n",
        "df = pd.concat([df_fcnn, df_lstm, df_transformer, df_logistic], axis=1)\n",
        "print(df.head())"
      ],
      "execution_count": 3,
      "outputs": [
        {
          "output_type": "stream",
          "text": [
            "   fraudulent          fcnn      lstm   transformer      logistic\n",
            "0           0  2.095921e-10  0.000002  6.238354e-07  2.228161e-05\n",
            "1           0  3.895740e-09  0.000018  9.412836e-07  3.750577e-03\n",
            "2           0  1.250730e-13  0.000035  5.618517e-07  4.887090e-05\n",
            "3           0  1.283309e-14  0.000001  3.591958e-07  2.149328e-08\n",
            "4           0  1.278826e-12  0.000003  4.954410e-07  7.783772e-06\n"
          ],
          "name": "stdout"
        }
      ]
    },
    {
      "cell_type": "code",
      "metadata": {
        "colab": {
          "base_uri": "https://localhost:8080/",
          "height": 295
        },
        "id": "_0N5Hq3eusQj",
        "outputId": "91ff8fbd-aaa2-4d75-b962-90ccd5958a1c"
      },
      "source": [
        "fpr1, tpr1, thresholds1 = roc_curve(df['fraudulent'], df['fcnn'])\n",
        "fpr2, tpr2, thresholds2 = roc_curve(df['fraudulent'], df['lstm'])\n",
        "fpr3, tpr3, thresholds3 = roc_curve(df['fraudulent'], df['transformer'])\n",
        "fpr4, tpr4, thresholds4 = roc_curve(df['fraudulent'], df['logistic'])\n",
        "\n",
        "plt.plot([0,1],[0,1], 'k--')\n",
        "plt.plot(fpr1, tpr1, label= \"FCNN\")\n",
        "plt.plot(fpr2, tpr2, label= \"LSTM\")\n",
        "plt.plot(fpr3, tpr3, label= \"Transformer\")\n",
        "plt.plot(fpr4, tpr4, label= \"Logistic\")\n",
        "plt.legend()\n",
        "plt.xlabel(\"FPR\")\n",
        "plt.ylabel(\"TPR\")\n",
        "plt.title('Receiver Operating Characteristic')\n",
        "plt.xlim(-0.005, 0.1)\n",
        "plt.ylim(0.6, 1)\n",
        "plt.show()"
      ],
      "execution_count": 4,
      "outputs": [
        {
          "output_type": "display_data",
          "data": {
            "image/png": "[encoded data removed]",
            "text/plain": [
              "<Figure size 432x288 with 1 Axes>"
            ]
          },
          "metadata": {
            "tags": [],
            "needs_background": "light"
          }
        }
      ]
    }
  ]
}